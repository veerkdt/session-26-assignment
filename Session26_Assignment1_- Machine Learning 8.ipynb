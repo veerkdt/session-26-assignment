{
 "cells": [
  {
   "cell_type": "markdown",
   "metadata": {},
   "source": [
    "In this assignment students have to find the frequency of words in a webpage. \n",
    "User can use urllib and BeautifulSoup to extract text from webpage."
   ]
  },
  {
   "cell_type": "code",
   "execution_count": 1,
   "metadata": {},
   "outputs": [],
   "source": [
    "# Import the required modules\n",
    "\n",
    "from bs4 import BeautifulSoup\n",
    "import urllib.request\n",
    "import nltk\n",
    "from nltk.corpus import stopwords"
   ]
  },
  {
   "cell_type": "code",
   "execution_count": 2,
   "metadata": {},
   "outputs": [],
   "source": [
    "# Read the html file in the problem statement\n",
    "\n",
    "response = urllib.request.urlopen('http://php.net/')\n",
    "html = response.read()"
   ]
  },
  {
   "cell_type": "code",
   "execution_count": 3,
   "metadata": {},
   "outputs": [],
   "source": [
    "# Pull out the html file and assign it to a variable. \n",
    "soup = BeautifulSoup(html,\"html5lib\")"
   ]
  },
  {
   "cell_type": "code",
   "execution_count": 4,
   "metadata": {},
   "outputs": [
    {
     "data": {
      "text/plain": [
       "3896"
      ]
     },
     "execution_count": 4,
     "metadata": {},
     "output_type": "execute_result"
    }
   ],
   "source": [
    "# Get the text from the file and split them up to words. \n",
    "\n",
    "text = soup.get_text()\n",
    "tokens = [t for t in text.split()] \n",
    "len(tokens)"
   ]
  },
  {
   "cell_type": "code",
   "execution_count": 5,
   "metadata": {},
   "outputs": [
    {
     "data": {
      "text/plain": [
       "2738"
      ]
     },
     "execution_count": 5,
     "metadata": {},
     "output_type": "execute_result"
    }
   ],
   "source": [
    "# Remove stopwords\n",
    "clean_tokens = tokens[:] \n",
    "stop = stopwords.words('english')\n",
    "for token in tokens: \n",
    "    if token in stopwords.words('english'): \n",
    "        clean_tokens.remove(token) \n",
    "\n",
    "len(clean_tokens)        "
   ]
  },
  {
   "cell_type": "code",
   "execution_count": 6,
   "metadata": {},
   "outputs": [
    {
     "data": {
      "text/plain": [
       "FreqDist({'PHP': 200, 'release': 77, 'The': 76, 'found': 68, 'For': 43, 'downloads': 32, 'source': 31, 'list': 31, 'Windows': 27, '7.3.0': 26, ...})"
      ]
     },
     "execution_count": 6,
     "metadata": {},
     "output_type": "execute_result"
    }
   ],
   "source": [
    "# Get the frequency of words in the input\n",
    "\n",
    "freq=nltk.FreqDist(clean_tokens)\n",
    "freq"
   ]
  },
  {
   "cell_type": "code",
   "execution_count": 7,
   "metadata": {},
   "outputs": [
    {
     "data": {
      "text/plain": [
       "[('PHP', 200),\n",
       " ('release', 77),\n",
       " ('The', 76),\n",
       " ('found', 68),\n",
       " ('For', 43),\n",
       " ('downloads', 32),\n",
       " ('source', 31),\n",
       " ('list', 31),\n",
       " ('Windows', 27),\n",
       " ('7.3.0', 26),\n",
       " ('Released', 25),\n",
       " ('team', 25),\n",
       " ('please', 25),\n",
       " ('visit', 25),\n",
       " ('binaries', 24),\n",
       " ('read', 23),\n",
       " ('also', 23),\n",
       " ('version', 21),\n",
       " ('2018', 20),\n",
       " ('new', 20),\n",
       " ('features', 20),\n",
       " ('next', 20),\n",
       " ('file', 19),\n",
       " ('files', 19),\n",
       " ('test', 19),\n",
       " ('bug', 19),\n",
       " ('-', 19),\n",
       " ('A', 18),\n",
       " ('download', 18),\n",
       " ('report', 18),\n",
       " ('system.', 18),\n",
       " ('DO', 18),\n",
       " ('NOT', 18),\n",
       " ('information', 18),\n",
       " ('changes,', 18),\n",
       " ('NEWS', 18),\n",
       " ('file,', 18),\n",
       " ('UPGRADING', 18),\n",
       " ('complete', 18),\n",
       " ('upgrading', 18),\n",
       " ('notes.', 18),\n",
       " ('These', 18),\n",
       " ('archive.', 18),\n",
       " ('planned', 18),\n",
       " ('Thank', 18),\n",
       " ('helping', 18),\n",
       " ('us', 18),\n",
       " ('make', 18),\n",
       " ('better.', 18),\n",
       " ('Please', 17)]"
      ]
     },
     "execution_count": 7,
     "metadata": {},
     "output_type": "execute_result"
    }
   ],
   "source": [
    "# Get the frequency of most common words\n",
    "freq.most_common(50)"
   ]
  },
  {
   "cell_type": "code",
   "execution_count": 9,
   "metadata": {},
   "outputs": [
    {
     "data": {
      "image/png": "[encoded data removed]",
      "text/plain": [
       "<Figure size 432x288 with 1 Axes>"
      ]
     },
     "metadata": {},
     "output_type": "display_data"
    }
   ],
   "source": [
    "# Plot the frequency \n",
    "freq.plot(50,cumulative=False)"
   ]
  },
  {
   "cell_type": "code",
   "execution_count": null,
   "metadata": {},
   "outputs": [],
   "source": []
  }
 ],
 "metadata": {
  "kernelspec": {
   "display_name": "Python 3",
   "language": "python",
   "name": "python3"
  },
  "language_info": {
   "codemirror_mode": {
    "name": "ipython",
    "version": 3
   },
   "file_extension": ".py",
   "mimetype": "text/x-python",
   "name": "python",
   "nbconvert_exporter": "python",
   "pygments_lexer": "ipython3",
   "version": "3.6.5"
  }
 },
 "nbformat": 4,
 "nbformat_minor": 2
}
